{
  "nbformat": 4,
  "nbformat_minor": 0,
  "metadata": {
    "colab": {
      "name": "‘Day 1 session 1 Exercises’.ipynb",
      "provenance": [],
      "authorship_tag": "ABX9TyOTeOjwbl3RJEQItfVw7Fdn",
      "include_colab_link": true
    },
    "kernelspec": {
      "name": "python3",
      "display_name": "Python 3"
    }
  },
  "cells": [
    {
      "cell_type": "markdown",
      "metadata": {
        "id": "view-in-github",
        "colab_type": "text"
      },
      "source": [
        "<a href=\"https://colab.research.google.com/github/hemalatha36/Application-of-python-programming/blob/master/%E2%80%98Day_1_session_1_Exercises%E2%80%99.ipynb\" target=\"_parent\"><img src=\"https://colab.research.google.com/assets/colab-badge.svg\" alt=\"Open In Colab\"/></a>"
      ]
    },
    {
      "cell_type": "code",
      "metadata": {
        "id": "ytLUZIiie1jS",
        "colab_type": "code",
        "colab": {
          "base_uri": "https://localhost:8080/",
          "height": 102
        },
        "outputId": "ab55661e-0593-4f24-a880-59473bffe2f2"
      },
      "source": [
        "# \tFind the compound interest for the given p,n,r  (formula : p(1+n*r/100)n )\n",
        "def compound_interest(principle, rate, time):\n",
        "    result = principle * (pow((1 + rate / 100), time))\n",
        "    return result\n",
        "\n",
        "\n",
        "p = float(input(\"Enter the principal amount: \"))\n",
        "r = float(input(\"Enter the interest rate: \"))\n",
        "n = float(input(\"Enter the time in years: \"))\n",
        "\n",
        "amount = compound_interest(p, r, n)\n",
        "interest = amount - p\n",
        "print(\"Compound amount is %.2f\" % amount)\n",
        "print(\"Compound interest is %.2f\" % interest)\n",
        "\n",
        "\n",
        "    \n"
      ],
      "execution_count": 2,
      "outputs": [
        {
          "output_type": "stream",
          "text": [
            "Enter the principal amount: 5000\n",
            "Enter the interest rate: 12\n",
            "Enter the time in years: 5\n",
            "Compound amount is 8811.71\n",
            "Compound interest is 3811.71\n"
          ],
          "name": "stdout"
        }
      ]
    },
    {
      "cell_type": "code",
      "metadata": {
        "id": "M4N63xWpgTU1",
        "colab_type": "code",
        "colab": {
          "base_uri": "https://localhost:8080/",
          "height": 51
        },
        "outputId": "d8b10da0-7107-4250-b4f4-04f76855c50e"
      },
      "source": [
        "# 2.\tConvert centegrade to farenheit  ( f= 9/5*c+32)\n",
        "centigrade = float(input(\"Enter temperature in centigrade: \"))\n",
        "fahrenheit = (centigrade * 9/5) + 32\n",
        "print('%.2f Centigrade is: %0.2f Fahrenheit' %(centigrade, fahrenheit))\n"
      ],
      "execution_count": 4,
      "outputs": [
        {
          "output_type": "stream",
          "text": [
            "Enter temperature in centigrade: 36\n",
            "36.00 Centigrade is: 96.80 Fahrenheit\n"
          ],
          "name": "stdout"
        }
      ]
    },
    {
      "cell_type": "code",
      "metadata": {
        "id": "jQf8XxpMiays",
        "colab_type": "code",
        "colab": {
          "base_uri": "https://localhost:8080/",
          "height": 68
        },
        "outputId": "2badc414-fc5f-4a40-9edb-f3461d236acf"
      },
      "source": [
        "# 3.\tFind the greater of two nos \n",
        "num1=int(input(\"enter the first number:\"))\n",
        "num2=int(input(\"enter the second number:\"))\n",
        "if num1>=num2:\n",
        "    large=num1\n",
        "else:\n",
        "    large=num2\n",
        "    print(\"the largest number is:\",large)"
      ],
      "execution_count": 5,
      "outputs": [
        {
          "output_type": "stream",
          "text": [
            "enter the first number:5\n",
            "enter the second number:7\n",
            "the largest number is: 7\n"
          ],
          "name": "stdout"
        }
      ]
    },
    {
      "cell_type": "code",
      "metadata": {
        "id": "bGVE8ie0jB75",
        "colab_type": "code",
        "colab": {
          "base_uri": "https://localhost:8080/",
          "height": 119
        },
        "outputId": "e86720a9-713e-4354-cbea-566c601fd22d"
      },
      "source": [
        "# 4.\tWrite a program for finding surface areas of cylinder and cone (2*PI*r*r*h, 1/3*PI*r*r*h) using function.\n",
        "PI = 3.14\n",
        "radius = float(input('Please Enter the Radius of a Cylinder: '))\n",
        "height = float(input('Please Enter the Height of a Cylinder: '))\n",
        "\n",
        "sa1 = 2 * PI * radius * (radius + height)\n",
        "sa2 = 1/3* PI* radius * radius * height\n",
        "\n",
        "print(\"\\n The Surface area of a Cylinder = %.2f\" %sa1)\n",
        "print(\"\\n The Surface area of a cone = %.2f\" %sa2)"
      ],
      "execution_count": 6,
      "outputs": [
        {
          "output_type": "stream",
          "text": [
            "Please Enter the Radius of a Cylinder: 2\n",
            "Please Enter the Height of a Cylinder: 3\n",
            "\n",
            " The Surface area of a Cylinder = 62.80\n",
            "\n",
            " The Surface area of a cone = 12.56\n"
          ],
          "name": "stdout"
        }
      ]
    },
    {
      "cell_type": "code",
      "metadata": {
        "id": "JIGH9NislLZa",
        "colab_type": "code",
        "colab": {
          "base_uri": "https://localhost:8080/",
          "height": 102
        },
        "outputId": "9e5b6f7e-5f7a-4eb9-8905-5c769abf1289"
      },
      "source": [
        "# 5.\tFind the greatest of four nos ( using ‘and’ operator)   using function.\n",
        "def maximum(a, b, c,d):\n",
        "  if (a >= b) and (a >= c) and (a >= d):\n",
        "   largest = a\n",
        "  elif (b >= c) and (b >= d):\n",
        "   largest = b\n",
        "  elif (c >=d):\n",
        "   largest = c \n",
        "  else:\n",
        "   largest = d\n",
        "   return largest\n",
        "\n",
        "a = int(input())\n",
        "b = int(input())\n",
        "c = int(input())\n",
        "d = int(input())\n",
        "print(\"the largest number is: \", maximum(a, b, c,d))\n"
      ],
      "execution_count": 11,
      "outputs": [
        {
          "output_type": "stream",
          "text": [
            "3\n",
            "4\n",
            "5\n",
            "6\n",
            "the largest number is:  6\n"
          ],
          "name": "stdout"
        }
      ]
    },
    {
      "cell_type": "code",
      "metadata": {
        "id": "80hsSjFxwm3p",
        "colab_type": "code",
        "colab": {}
      },
      "source": [
        "loop = 1\n",
        "choice = 0\n",
        "def oddoreven(a):\n",
        " if(a%2==0):\n",
        "   print(\"even\")\n",
        " else:\n",
        "   print(\"odd\")\n",
        "def fact(num):\n",
        " factorial=1\n",
        " if num < 0:\n",
        "   print(\"Sorry, factorial does not exist for negative numbers\")\n",
        " elif num == 0:\n",
        "   print(\"The factorial of 0 is 1\")\n",
        " else:\n",
        "   for i in range(1,num + 1):\n",
        "     factorial = factorial*i\n",
        "   print(\"The factorial of\",num,\"is\",factorial)\n",
        "def odd(n):\n",
        " print(\"odd numbers: \");\n",
        " for i in range(1,n+1):\n",
        "   if(i%2!=0):\n",
        "     print(i)\n",
        "def prime(l,h):\n",
        " print(\"prime numbers: \")\n",
        " for num in range(l,h + 1):\n",
        "      if num > 1:\n",
        "        for i in range(2,num):\n",
        "          if (num % i) == 0:\n",
        "            break\n",
        "          else:\n",
        "             print(num)\n",
        "while loop == 1:\n",
        "   print (\"Welcome\")\n",
        "   print (\"your options are:\")\n",
        "   print (\"\")\n",
        "   print(\"1) odd or even\")\n",
        "   print(\"2) factorial\")\n",
        "   print(\"3) odd upto n\")\n",
        "   print(\"4) prime upto n\")\n",
        "   print(\"5) Quit \")\n",
        "   print(\"\")\n",
        "   try:\n",
        "     choice = int(input(\"Choose your option: \"))\n",
        "   except:\n",
        "     print('please enter a valid number for option')\n",
        "     print(\"\")\n",
        "   print(\"\")\n",
        " if choice == 1:\n",
        "     x = int(input(\" Enter no: \"))\n",
        "     oddoreven(x)\n",
        "\n",
        " elif choice == 2:\n",
        "     x = int(input(\"Enter no: \"))\n",
        "     fact(x)\n",
        " elif choice == 3:\n",
        "     x = int(input(\"Enter range: \"))\n",
        "     odd(x)\n",
        " elif choice == 4:\n",
        "     x = int(input(\"Enter lower range: \"))\n",
        "     y = int(input(\"Enter upper range: \"))\n",
        "     prime(x,y)\n",
        " elif choice == 5:\n",
        "    loop = 0\n",
        " else:\n",
        "    print(\"please choice a valid option from 1 to 5\")\n",
        "    choice=0\n",
        "print (\"Thank-you \") "
      ],
      "execution_count": 0,
      "outputs": []
    }
  ]
}