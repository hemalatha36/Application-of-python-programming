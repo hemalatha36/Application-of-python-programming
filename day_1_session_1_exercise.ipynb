{
  "nbformat": 4,
  "nbformat_minor": 0,
  "metadata": {
    "colab": {
      "name": "day 1 session 1 exercise.ipynb",
      "provenance": [],
      "authorship_tag": "ABX9TyNyFqx3FW7TARy5+dVhjKQV",
      "include_colab_link": true
    },
    "kernelspec": {
      "name": "python3",
      "display_name": "Python 3"
    },
    "accelerator": "GPU"
  },
  "cells": [
    {
      "cell_type": "markdown",
      "metadata": {
        "id": "view-in-github",
        "colab_type": "text"
      },
      "source": [
        "<a href=\"https://colab.research.google.com/github/hemalatha36/Application-of-python-programming/blob/master/day_1_session_1_exercise.ipynb\" target=\"_parent\"><img src=\"https://colab.research.google.com/assets/colab-badge.svg\" alt=\"Open In Colab\"/></a>"
      ]
    },
    {
      "cell_type": "code",
      "metadata": {
        "id": "FLFM6NX7-XBP",
        "colab_type": "code",
        "colab": {
          "base_uri": "https://localhost:8080/",
          "height": 918
        },
        "outputId": "0e13749d-2b7a-4028-defc-dfb075291089"
      },
      "source": [
        "# 6.\tWrite a  menu program to perform the operations ( ODDorEven, Factorial, ODDNoUptoN, PrimeUptoN ) using functions for two nos with  menu choice\n",
        "\n",
        "loop = 1\n",
        "choice = 0\n",
        "\n",
        "def oddoreven(a):\n",
        "  if(a%2==0):\n",
        "    print(\"even\")\n",
        "  else:\n",
        "    print(\"odd\")\n",
        "def fact(num):\n",
        "  factorial=1 \n",
        "  if  num  <  0:\n",
        "    print(\"Sorry, factorial does not exist for negative numbers\") \n",
        "  elif  num  ==  0:\n",
        "    print(\"The factorial of 0 is 1\") \n",
        "  else:\n",
        "    for i in range(1,num + 1): \n",
        "      factorial = factorial*i\n",
        "    print(\"The factorial of\",num,\"is\",factorial) \n",
        "def odd(n):\n",
        "  print(\"odd numbers: \");\n",
        "  for i in range(1,n+1):\n",
        "    if(i%2!=0):\n",
        "      print(i) \n",
        "def  prime(l,h):\n",
        "  print(\"prime numbers: \")\n",
        "  for num in range(l,h + 1): \n",
        "    if  num  >  1:\n",
        "      for i in range(2,num):\n",
        "        if  (num  %  i)  ==  0:\n",
        "          break\n",
        "      else:\n",
        "        print(num)\n",
        "\n",
        "while  loop  ==  1:\n",
        "  print (\"Welcome\")\n",
        "  print (\"your options are:\")\n",
        "  print (\"\")\n",
        "  print(\"1) odd or even\")\n",
        "  print(\"2) factorial\")\n",
        "  print(\"3) odd upto n\")\n",
        "  print(\"4) prime upto n\") \n",
        "  print(\"5) Quit \")\n",
        "  print(\"\") \n",
        "  try:\n",
        "    choice = int(input(\"Choose your option: \")) \n",
        "  except:\n",
        "    print('please enter a valid number for option')\n",
        "    print(\"\")\n",
        "  print(\"\")\n",
        "  if  choice  ==  1:\n",
        "    x  = int(input(\" Enter\tno: \"))\n",
        "    oddoreven(x)\n",
        "  elif  choice  ==  2:\n",
        "    x = int(input(\"Enter\tno: \")) \n",
        "    fact(x)\n",
        "  elif  choice  ==  3:\n",
        "    x = int(input(\"Enter range: \"))\n",
        "    odd(x)\n",
        "  elif  choice  ==  4:\n",
        "    x = int(input(\"Enter lower range: \"))  \n",
        "    y = int(input(\"Enter upper range: \")) \n",
        "    prime(x,y)\n",
        "  elif  choice  ==  5: \n",
        "    loop = 0\n",
        "  else:\n",
        "    print(\"please choice a valid option from 1 to 5\") \n",
        "    choice=0\n",
        "print (\"Thank-you \")"
      ],
      "execution_count": 1,
      "outputs": [
        {
          "output_type": "stream",
          "text": [
            "Welcome\n",
            "your options are:\n",
            "\n",
            "1) odd or even\n",
            "2) factorial\n",
            "3) odd upto n\n",
            "4) prime upto n\n",
            "5) Quit \n",
            "\n",
            "Choose your option: 1\n",
            "\n",
            " Enter\tno: 3\n",
            "odd\n",
            "Welcome\n",
            "your options are:\n",
            "\n",
            "1) odd or even\n",
            "2) factorial\n",
            "3) odd upto n\n",
            "4) prime upto n\n",
            "5) Quit \n",
            "\n",
            "Choose your option: 2\n",
            "\n",
            "Enter\tno: 3\n",
            "The factorial of 3 is 6\n",
            "Welcome\n",
            "your options are:\n",
            "\n",
            "1) odd or even\n",
            "2) factorial\n",
            "3) odd upto n\n",
            "4) prime upto n\n",
            "5) Quit \n",
            "\n",
            "Choose your option: 4\n",
            "\n",
            "Enter lower range: 4\n",
            "Enter upper range: 5\n",
            "prime numbers: \n",
            "5\n",
            "Welcome\n",
            "your options are:\n",
            "\n",
            "1) odd or even\n",
            "2) factorial\n",
            "3) odd upto n\n",
            "4) prime upto n\n",
            "5) Quit \n",
            "\n",
            "Choose your option: 5\n",
            "\n",
            "Thank-you \n"
          ],
          "name": "stdout"
        }
      ]
    },
    {
      "cell_type": "code",
      "metadata": {
        "id": "ffQEyvaO-y7c",
        "colab_type": "code",
        "colab": {
          "base_uri": "https://localhost:8080/",
          "height": 102
        },
        "outputId": "fc738d8a-a54c-4429-da99-c350ea7f358f"
      },
      "source": [
        "# Find the compound interest for the given p,n,r  (formula : p(1+n*r/100)n )\n",
        "def compound_interest(principle, rate, time):\n",
        "    result = principle * (pow((1 + rate / 100), time))\n",
        "    return result\n",
        "\n",
        "\n",
        "p = float(input(\"Enter the principal amount: \"))\n",
        "r = float(input(\"Enter the interest rate: \"))\n",
        "n = float(input(\"Enter the time in years: \"))\n",
        "\n",
        "amount = compound_interest(p, r, n)\n",
        "interest = amount - p\n",
        "print(\"Compound amount is %.2f\" % amount)\n",
        "print(\"Compound interest is %.2f\" % interest)\n",
        "\n"
      ],
      "execution_count": 2,
      "outputs": [
        {
          "output_type": "stream",
          "text": [
            "Enter the principal amount: 3000\n",
            "Enter the interest rate: 12\n",
            "Enter the time in years: 3\n",
            "Compound amount is 4214.78\n",
            "Compound interest is 1214.78\n"
          ],
          "name": "stdout"
        }
      ]
    },
    {
      "cell_type": "code",
      "metadata": {
        "id": "K47MQNRR_Cf0",
        "colab_type": "code",
        "colab": {
          "base_uri": "https://localhost:8080/",
          "height": 51
        },
        "outputId": "9e372ac2-e49d-425d-a036-64d6eac90d2d"
      },
      "source": [
        "# 2.\tConvert centegrade to farenheit  ( f= 9/5*c+32)\n",
        "centigrade = float(input(\"Enter temperature in centigrade: \"))\n",
        "fahrenheit = (centigrade * 9/5) + 32\n",
        "print('%.2f Centigrade is: %0.2f Fahrenheit' %(centigrade, fahrenheit))\n"
      ],
      "execution_count": 3,
      "outputs": [
        {
          "output_type": "stream",
          "text": [
            "Enter temperature in centigrade: 37\n",
            "37.00 Centigrade is: 98.60 Fahrenheit\n"
          ],
          "name": "stdout"
        }
      ]
    },
    {
      "cell_type": "code",
      "metadata": {
        "id": "ImN0rxWb_KQ0",
        "colab_type": "code",
        "colab": {
          "base_uri": "https://localhost:8080/",
          "height": 68
        },
        "outputId": "de6b48a1-fef8-4c94-b52b-49a71b3486df"
      },
      "source": [
        "# 3.\tFind the greater of two nos \n",
        "num1=int(input(\"enter the first number:\"))\n",
        "num2=int(input(\"enter the second number:\"))\n",
        "if num1>=num2:\n",
        "    large=num1\n",
        "else:\n",
        "    large=num2\n",
        "    print(\"the largest number is:\",large)"
      ],
      "execution_count": 4,
      "outputs": [
        {
          "output_type": "stream",
          "text": [
            "enter the first number:4\n",
            "enter the second number:6\n",
            "the largest number is: 6\n"
          ],
          "name": "stdout"
        }
      ]
    },
    {
      "cell_type": "code",
      "metadata": {
        "id": "0S-lAwzu_Rg9",
        "colab_type": "code",
        "colab": {
          "base_uri": "https://localhost:8080/",
          "height": 119
        },
        "outputId": "8330bc83-9179-4c92-e1c1-fdf13ac33c3c"
      },
      "source": [
        "# 4.\tWrite a program for finding surface areas of cylinder and cone (2*PI*r*r*h, 1/3*PI*r*r*h) using function.\n",
        "PI = 3.14\n",
        "radius = float(input('Please Enter the Radius of a Cylinder: '))\n",
        "height = float(input('Please Enter the Height of a Cylinder: '))\n",
        "\n",
        "sa1 = 2 * PI * radius * (radius + height)\n",
        "sa2 = 1/3* PI* radius * radius * height\n",
        "\n",
        "print(\"\\n The Surface area of a Cylinder = %.2f\" %sa1)\n",
        "print(\"\\n The Surface area of a cone = %.2f\" %sa2)"
      ],
      "execution_count": 5,
      "outputs": [
        {
          "output_type": "stream",
          "text": [
            "Please Enter the Radius of a Cylinder: 3\n",
            "Please Enter the Height of a Cylinder: 4\n",
            "\n",
            " The Surface area of a Cylinder = 131.88\n",
            "\n",
            " The Surface area of a cone = 37.68\n"
          ],
          "name": "stdout"
        }
      ]
    },
    {
      "cell_type": "code",
      "metadata": {
        "id": "L2vW1inLAKhw",
        "colab_type": "code",
        "colab": {
          "base_uri": "https://localhost:8080/",
          "height": 102
        },
        "outputId": "b4ef7500-0ad4-4ef1-b935-6dafec915997"
      },
      "source": [
        "# 5.\tFind the greatest of four nos ( using ‘and’ operator)   using function.\n",
        "def maximum(a, b, c,d):\n",
        "  if (a >= b) and (a >= c) and (a >= d):\n",
        "   largest = a\n",
        "  elif (b >= c) and (b >= d):\n",
        "   largest = b\n",
        "  elif (c >=d):\n",
        "   largest = c \n",
        "  else:\n",
        "   largest = d\n",
        "   return largest\n",
        "\n",
        "a = int(input())\n",
        "b = int(input())\n",
        "c = int(input())\n",
        "d = int(input())\n",
        "print(\"the largest number is: \", maximum(a, b, c,d))"
      ],
      "execution_count": 2,
      "outputs": [
        {
          "output_type": "stream",
          "text": [
            "2\n",
            "5\n",
            "8\n",
            "10\n",
            "the largest number is:  10\n"
          ],
          "name": "stdout"
        }
      ]
    }
  ]
}